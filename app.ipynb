{
 "cells": [
  {
   "cell_type": "code",
   "execution_count": null,
   "id": "42c7cb9f-6709-4175-9180-52b0f36f5924",
   "metadata": {},
   "outputs": [
    {
     "name": "stdout",
     "output_type": "stream",
     "text": [
      " * Serving Flask app '__main__'\n",
      " * Debug mode: off\n"
     ]
    },
    {
     "name": "stderr",
     "output_type": "stream",
     "text": [
      "WARNING: This is a development server. Do not use it in a production deployment. Use a production WSGI server instead.\n",
      " * Running on all addresses (0.0.0.0)\n",
      " * Running on http://127.0.0.1:8083\n",
      " * Running on http://192.168.20.117:8083\n",
      "Press CTRL+C to quit\n",
      "192.168.20.117 - - [04/Oct/2024 15:58:56] \"GET / HTTP/1.1\" 200 -\n"
     ]
    },
    {
     "name": "stdout",
     "output_type": "stream",
     "text": [
      "뉴스 수집 시작\n",
      "뉴스 수집 시작\n",
      "뉴스 수집 시작\n"
     ]
    },
    {
     "name": "stderr",
     "output_type": "stream",
     "text": [
      "192.168.20.117 - - [04/Oct/2024 16:00:06] \"GET / HTTP/1.1\" 200 -\n"
     ]
    },
    {
     "name": "stdout",
     "output_type": "stream",
     "text": [
      "뉴스 수집 완료\n",
      "뉴스 수집 시작\n",
      "뉴스 수집 완료\n",
      "뉴스 수집 시작\n",
      "뉴스 수집 완료\n",
      "뉴스 수집 시작\n"
     ]
    },
    {
     "name": "stderr",
     "output_type": "stream",
     "text": [
      "192.168.20.117 - - [04/Oct/2024 16:00:09] \"GET / HTTP/1.1\" 200 -\n"
     ]
    },
    {
     "name": "stdout",
     "output_type": "stream",
     "text": [
      "뉴스 수집 완료\n",
      "뉴스 수집 시작\n",
      "뉴스 수집 완료\n",
      "뉴스 수집 시작\n",
      "뉴스 수집 완료\n",
      "뉴스 수집 시작\n",
      "뉴스 수집 완료\n",
      "뉴스 수집 완료\n",
      "뉴스 수집 완료\n"
     ]
    }
   ],
   "source": [
    "from flask import Flask, render_template\n",
    "import requests\n",
    "from bs4 import BeautifulSoup as bs\n",
    "import schedule\n",
    "import time\n",
    "from threading import Thread\n",
    "\n",
    "app = Flask(__name__)\n",
    "\n",
    "collected_news = []  # 수집된 뉴스를 저장할 전역 변수\n",
    "\n",
    "def save_news_to_file(news_list):\n",
    "    \"\"\"수집된 뉴스를 텍스트 파일로 저장\"\"\"\n",
    "    with open(\"collected_news.txt\", \"a\", encoding=\"utf-8\") as f:\n",
    "        for news in news_list:\n",
    "            f.write(f\"Title: {news['title']}\\n\")\n",
    "            f.write(f\"Date: {news['date']}\\n\")\n",
    "            f.write(f\"Content:\\n{news['content']}\\n\")\n",
    "            f.write(\"=\"*80 + \"\\n\")  # 구분선 추가\n",
    "\n",
    "def get_news(url: str):\n",
    "    res = requests.get(url)\n",
    "    soup = bs(res.text, \"lxml\")\n",
    "    \n",
    "    title = soup.select(\"h3.tit_view\")[0].text\n",
    "    reg_date = soup.select(\"span.num_date\")[0].text\n",
    "    content_list = soup.select(\"div.article_view p\")\n",
    "    \n",
    "    content = \"\"\n",
    "    for i in content_list:\n",
    "        content += i.text\n",
    "    \n",
    "    return {\n",
    "        \"title\": title,\n",
    "        \"date\": reg_date,\n",
    "        \"content\": content\n",
    "    }\n",
    "\n",
    "def collect_news():\n",
    "    global collected_news  # 전역 변수에 접근\n",
    "    news_list = []\n",
    "    page = 1\n",
    "    \n",
    "    while page <= 3:  # 1~3페이지 수집\n",
    "        url = f\"https://news.daum.net/breakingnews/digital?page={page}\"\n",
    "        res = requests.get(url)\n",
    "        soup = bs(res.text, \"lxml\")\n",
    "        url_list = soup.select(\"ul.list_news2 a.link_txt\")\n",
    "        \n",
    "        if len(url_list) == 0:\n",
    "            break\n",
    "        \n",
    "        for news_url in url_list:\n",
    "            news = get_news(news_url[\"href\"])\n",
    "            news_list.append(news)\n",
    "\n",
    "        page += 1\n",
    "\n",
    "    collected_news = news_list  # 수집된 뉴스를 전역 변수에 저장\n",
    "    save_news_to_file(collected_news)  # 수집된 뉴스 파일에 저장\n",
    "\n",
    "def scheduled_collect_news():\n",
    "    \"\"\"매일 자정에 뉴스 수집\"\"\"\n",
    "    print(\"뉴스 수집 시작\")\n",
    "    collect_news()\n",
    "    print(\"뉴스 수집 완료\")\n",
    "\n",
    "# 스케줄링 설정: 매일 16시에 뉴스 수집 실행\n",
    "schedule.every().day.at(\"16:00\").do(scheduled_collect_news)\n",
    "\n",
    "def run_scheduler():\n",
    "    \"\"\"스케줄러를 실행하는 함수\"\"\"\n",
    "    while True:\n",
    "        schedule.run_pending()\n",
    "        time.sleep(1)\n",
    "\n",
    "# 스케줄러를 별도의 스레드에서 실행\n",
    "thread = Thread(target=run_scheduler)\n",
    "thread.start()\n",
    "\n",
    "@app.route('/')\n",
    "def index():\n",
    "    return render_template('index.html', news_list=collected_news)\n",
    "\n",
    "if __name__ == \"__main__\":\n",
    "    app.run(host=\"0.0.0.0\", port=8083)"
   ]
  },
  {
   "cell_type": "code",
   "execution_count": 9,
   "id": "1725dd40-b719-48fa-b7cf-f98247deef57",
   "metadata": {},
   "outputs": [
    {
     "name": "stdout",
     "output_type": "stream",
     "text": [
      "Collecting schedule\n",
      "  Downloading schedule-1.2.2-py3-none-any.whl.metadata (3.8 kB)\n",
      "Downloading schedule-1.2.2-py3-none-any.whl (12 kB)\n",
      "Installing collected packages: schedule\n",
      "Successfully installed schedule-1.2.2\n",
      "Note: you may need to restart the kernel to use updated packages.\n"
     ]
    }
   ],
   "source": [
    "pip install schedule"
   ]
  }
 ],
 "metadata": {
  "kernelspec": {
   "display_name": "Python 3 (ipykernel)",
   "language": "python",
   "name": "python3"
  },
  "language_info": {
   "codemirror_mode": {
    "name": "ipython",
    "version": 3
   },
   "file_extension": ".py",
   "mimetype": "text/x-python",
   "name": "python",
   "nbconvert_exporter": "python",
   "pygments_lexer": "ipython3",
   "version": "3.12.4"
  }
 },
 "nbformat": 4,
 "nbformat_minor": 5
}
